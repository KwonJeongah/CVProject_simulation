{
 "cells": [
  {
   "cell_type": "code",
   "execution_count": 73,
   "metadata": {},
   "outputs": [],
   "source": [
    "import pandas as pd\n",
    "import numpy as np\n",
    "import random\n",
    "import math\n",
    "from pandas import DataFrame\n",
    "from scipy import stats"
   ]
  },
  {
   "cell_type": "code",
   "execution_count": 2,
   "metadata": {},
   "outputs": [],
   "source": [
    "#link1과 15데이터를 1and15.txt에 저장"
   ]
  },
  {
   "cell_type": "code",
   "execution_count": 3,
   "metadata": {},
   "outputs": [],
   "source": [
    "f = open(\"1and15.txt\",'w')"
   ]
  },
  {
   "cell_type": "code",
   "execution_count": 4,
   "metadata": {},
   "outputs": [],
   "source": [
    "df = open('용인_양지.txt', 'r')\n",
    "lines = df.readlines()\n",
    "for line in lines:\n",
    "    if not line: break\n",
    "    result = line.split(\";\")\n",
    "    if(result[2] == '15' or result[2] == '1'):\n",
    "        f.write(';'.join(result))\n",
    "df.close()"
   ]
  },
  {
   "cell_type": "code",
   "execution_count": 5,
   "metadata": {},
   "outputs": [],
   "source": [
    "f.close()"
   ]
  },
  {
   "cell_type": "code",
   "execution_count": 6,
   "metadata": {},
   "outputs": [],
   "source": [
    "#1and15(링크1과 링크 15데이터)에 있는 NO데이터를 1and15_NO에 저장 ->이 차량들의 모두가 대상차량은 아니지만, 여기에 속하지 않는 것은 대상차량이 될 수 없음"
   ]
  },
  {
   "cell_type": "code",
   "execution_count": 7,
   "metadata": {},
   "outputs": [],
   "source": [
    "f = open(\"1and15_NO.txt\",'w')\n",
    "\n",
    "df = open(\"1and15.txt\",'r')\n",
    "lines = df.readlines()\n",
    "\n",
    "for line in lines:\n",
    "    if not line : break\n",
    "    result = line.split(\";\")\n",
    "    f.write(result[1])\n",
    "    f.write('\\n')\n",
    "    \n",
    "df.close()\n",
    "f.close()"
   ]
  },
  {
   "cell_type": "code",
   "execution_count": 8,
   "metadata": {},
   "outputs": [],
   "source": [
    "#바로 위에서 저장한 파일을 NO_data로 불러오기"
   ]
  },
  {
   "cell_type": "code",
   "execution_count": 9,
   "metadata": {},
   "outputs": [],
   "source": [
    "NO_data = pd.read_csv('1and15_NO.txt', names=['NO'])"
   ]
  },
  {
   "cell_type": "code",
   "execution_count": 10,
   "metadata": {},
   "outputs": [
    {
     "data": {
      "text/html": [
       "<div>\n",
       "<style scoped>\n",
       "    .dataframe tbody tr th:only-of-type {\n",
       "        vertical-align: middle;\n",
       "    }\n",
       "\n",
       "    .dataframe tbody tr th {\n",
       "        vertical-align: top;\n",
       "    }\n",
       "\n",
       "    .dataframe thead th {\n",
       "        text-align: right;\n",
       "    }\n",
       "</style>\n",
       "<table border=\"1\" class=\"dataframe\">\n",
       "  <thead>\n",
       "    <tr style=\"text-align: right;\">\n",
       "      <th></th>\n",
       "      <th>NO</th>\n",
       "    </tr>\n",
       "  </thead>\n",
       "  <tbody>\n",
       "    <tr>\n",
       "      <th>0</th>\n",
       "      <td>728</td>\n",
       "    </tr>\n",
       "    <tr>\n",
       "      <th>1</th>\n",
       "      <td>734</td>\n",
       "    </tr>\n",
       "    <tr>\n",
       "      <th>2</th>\n",
       "      <td>742</td>\n",
       "    </tr>\n",
       "    <tr>\n",
       "      <th>3</th>\n",
       "      <td>746</td>\n",
       "    </tr>\n",
       "    <tr>\n",
       "      <th>4</th>\n",
       "      <td>756</td>\n",
       "    </tr>\n",
       "  </tbody>\n",
       "</table>\n",
       "</div>"
      ],
      "text/plain": [
       "    NO\n",
       "0  728\n",
       "1  734\n",
       "2  742\n",
       "3  746\n",
       "4  756"
      ]
     },
     "execution_count": 10,
     "metadata": {},
     "output_type": "execute_result"
    }
   ],
   "source": [
    "NO_data.head()"
   ]
  },
  {
   "cell_type": "code",
   "execution_count": 11,
   "metadata": {},
   "outputs": [
    {
     "data": {
      "text/html": [
       "<div>\n",
       "<style scoped>\n",
       "    .dataframe tbody tr th:only-of-type {\n",
       "        vertical-align: middle;\n",
       "    }\n",
       "\n",
       "    .dataframe tbody tr th {\n",
       "        vertical-align: top;\n",
       "    }\n",
       "\n",
       "    .dataframe thead th {\n",
       "        text-align: right;\n",
       "    }\n",
       "</style>\n",
       "<table border=\"1\" class=\"dataframe\">\n",
       "  <thead>\n",
       "    <tr style=\"text-align: right;\">\n",
       "      <th></th>\n",
       "      <th>NO</th>\n",
       "    </tr>\n",
       "  </thead>\n",
       "  <tbody>\n",
       "    <tr>\n",
       "      <th>198109</th>\n",
       "      <td>4695</td>\n",
       "    </tr>\n",
       "    <tr>\n",
       "      <th>198110</th>\n",
       "      <td>4698</td>\n",
       "    </tr>\n",
       "    <tr>\n",
       "      <th>198111</th>\n",
       "      <td>4710</td>\n",
       "    </tr>\n",
       "    <tr>\n",
       "      <th>198112</th>\n",
       "      <td>4720</td>\n",
       "    </tr>\n",
       "    <tr>\n",
       "      <th>198113</th>\n",
       "      <td>4721</td>\n",
       "    </tr>\n",
       "  </tbody>\n",
       "</table>\n",
       "</div>"
      ],
      "text/plain": [
       "          NO\n",
       "198109  4695\n",
       "198110  4698\n",
       "198111  4710\n",
       "198112  4720\n",
       "198113  4721"
      ]
     },
     "execution_count": 11,
     "metadata": {},
     "output_type": "execute_result"
    }
   ],
   "source": [
    "NO_data.tail()"
   ]
  },
  {
   "cell_type": "code",
   "execution_count": 12,
   "metadata": {},
   "outputs": [
    {
     "data": {
      "text/plain": [
       "(198114, 1)"
      ]
     },
     "execution_count": 12,
     "metadata": {},
     "output_type": "execute_result"
    }
   ],
   "source": [
    "NO_data.shape"
   ]
  },
  {
   "cell_type": "code",
   "execution_count": 13,
   "metadata": {},
   "outputs": [],
   "source": [
    "#중복된 NO제거\n",
    "NO_data = NO_data.drop_duplicates('NO')"
   ]
  },
  {
   "cell_type": "code",
   "execution_count": 14,
   "metadata": {},
   "outputs": [
    {
     "data": {
      "text/html": [
       "<div>\n",
       "<style scoped>\n",
       "    .dataframe tbody tr th:only-of-type {\n",
       "        vertical-align: middle;\n",
       "    }\n",
       "\n",
       "    .dataframe tbody tr th {\n",
       "        vertical-align: top;\n",
       "    }\n",
       "\n",
       "    .dataframe thead th {\n",
       "        text-align: right;\n",
       "    }\n",
       "</style>\n",
       "<table border=\"1\" class=\"dataframe\">\n",
       "  <thead>\n",
       "    <tr style=\"text-align: right;\">\n",
       "      <th></th>\n",
       "      <th>NO</th>\n",
       "    </tr>\n",
       "  </thead>\n",
       "  <tbody>\n",
       "    <tr>\n",
       "      <th>0</th>\n",
       "      <td>728</td>\n",
       "    </tr>\n",
       "    <tr>\n",
       "      <th>1</th>\n",
       "      <td>734</td>\n",
       "    </tr>\n",
       "    <tr>\n",
       "      <th>2</th>\n",
       "      <td>742</td>\n",
       "    </tr>\n",
       "    <tr>\n",
       "      <th>3</th>\n",
       "      <td>746</td>\n",
       "    </tr>\n",
       "    <tr>\n",
       "      <th>4</th>\n",
       "      <td>756</td>\n",
       "    </tr>\n",
       "  </tbody>\n",
       "</table>\n",
       "</div>"
      ],
      "text/plain": [
       "    NO\n",
       "0  728\n",
       "1  734\n",
       "2  742\n",
       "3  746\n",
       "4  756"
      ]
     },
     "execution_count": 14,
     "metadata": {},
     "output_type": "execute_result"
    }
   ],
   "source": [
    "NO_data.head()"
   ]
  },
  {
   "cell_type": "code",
   "execution_count": 15,
   "metadata": {},
   "outputs": [
    {
     "data": {
      "text/html": [
       "<div>\n",
       "<style scoped>\n",
       "    .dataframe tbody tr th:only-of-type {\n",
       "        vertical-align: middle;\n",
       "    }\n",
       "\n",
       "    .dataframe tbody tr th {\n",
       "        vertical-align: top;\n",
       "    }\n",
       "\n",
       "    .dataframe thead th {\n",
       "        text-align: right;\n",
       "    }\n",
       "</style>\n",
       "<table border=\"1\" class=\"dataframe\">\n",
       "  <thead>\n",
       "    <tr style=\"text-align: right;\">\n",
       "      <th></th>\n",
       "      <th>NO</th>\n",
       "    </tr>\n",
       "  </thead>\n",
       "  <tbody>\n",
       "    <tr>\n",
       "      <th>197737</th>\n",
       "      <td>5055</td>\n",
       "    </tr>\n",
       "    <tr>\n",
       "      <th>197820</th>\n",
       "      <td>5056</td>\n",
       "    </tr>\n",
       "    <tr>\n",
       "      <th>197821</th>\n",
       "      <td>5057</td>\n",
       "    </tr>\n",
       "    <tr>\n",
       "      <th>197904</th>\n",
       "      <td>5058</td>\n",
       "    </tr>\n",
       "    <tr>\n",
       "      <th>198075</th>\n",
       "      <td>5059</td>\n",
       "    </tr>\n",
       "  </tbody>\n",
       "</table>\n",
       "</div>"
      ],
      "text/plain": [
       "          NO\n",
       "197737  5055\n",
       "197820  5056\n",
       "197821  5057\n",
       "197904  5058\n",
       "198075  5059"
      ]
     },
     "execution_count": 15,
     "metadata": {},
     "output_type": "execute_result"
    }
   ],
   "source": [
    "NO_data.tail()"
   ]
  },
  {
   "cell_type": "code",
   "execution_count": 16,
   "metadata": {},
   "outputs": [
    {
     "data": {
      "text/plain": [
       "(4294, 1)"
      ]
     },
     "execution_count": 16,
     "metadata": {},
     "output_type": "execute_result"
    }
   ],
   "source": [
    "NO_data.shape"
   ]
  },
  {
   "cell_type": "code",
   "execution_count": 17,
   "metadata": {},
   "outputs": [],
   "source": [
    "NO_data = NO_data.set_index('NO')\n",
    "NO_data[\"Link1\"] = 0\n",
    "NO_data[\"Link15\"] = 0"
   ]
  },
  {
   "cell_type": "code",
   "execution_count": 18,
   "metadata": {
    "scrolled": true
   },
   "outputs": [
    {
     "data": {
      "text/html": [
       "<div>\n",
       "<style scoped>\n",
       "    .dataframe tbody tr th:only-of-type {\n",
       "        vertical-align: middle;\n",
       "    }\n",
       "\n",
       "    .dataframe tbody tr th {\n",
       "        vertical-align: top;\n",
       "    }\n",
       "\n",
       "    .dataframe thead th {\n",
       "        text-align: right;\n",
       "    }\n",
       "</style>\n",
       "<table border=\"1\" class=\"dataframe\">\n",
       "  <thead>\n",
       "    <tr style=\"text-align: right;\">\n",
       "      <th></th>\n",
       "      <th>Link1</th>\n",
       "      <th>Link15</th>\n",
       "    </tr>\n",
       "    <tr>\n",
       "      <th>NO</th>\n",
       "      <th></th>\n",
       "      <th></th>\n",
       "    </tr>\n",
       "  </thead>\n",
       "  <tbody>\n",
       "    <tr>\n",
       "      <th>728</th>\n",
       "      <td>0</td>\n",
       "      <td>0</td>\n",
       "    </tr>\n",
       "    <tr>\n",
       "      <th>734</th>\n",
       "      <td>0</td>\n",
       "      <td>0</td>\n",
       "    </tr>\n",
       "    <tr>\n",
       "      <th>742</th>\n",
       "      <td>0</td>\n",
       "      <td>0</td>\n",
       "    </tr>\n",
       "    <tr>\n",
       "      <th>746</th>\n",
       "      <td>0</td>\n",
       "      <td>0</td>\n",
       "    </tr>\n",
       "    <tr>\n",
       "      <th>756</th>\n",
       "      <td>0</td>\n",
       "      <td>0</td>\n",
       "    </tr>\n",
       "  </tbody>\n",
       "</table>\n",
       "</div>"
      ],
      "text/plain": [
       "     Link1  Link15\n",
       "NO                \n",
       "728      0       0\n",
       "734      0       0\n",
       "742      0       0\n",
       "746      0       0\n",
       "756      0       0"
      ]
     },
     "execution_count": 18,
     "metadata": {},
     "output_type": "execute_result"
    }
   ],
   "source": [
    "NO_data.head()"
   ]
  },
  {
   "cell_type": "code",
   "execution_count": 19,
   "metadata": {},
   "outputs": [],
   "source": [
    "#링크 1 또는 링크 15를 지나면 NO_data 데이터 프레임의 해당 열을 1로 바꿈"
   ]
  },
  {
   "cell_type": "code",
   "execution_count": 20,
   "metadata": {},
   "outputs": [],
   "source": [
    "f = open(\"1and15.txt\",'r')\n",
    "\n",
    "lines = f.readlines()\n",
    "for line in lines:\n",
    "    if not line: break\n",
    "    result = line.split(\";\")\n",
    "    if(result[2] == '15'):\n",
    "        ind = int(result[1])\n",
    "        NO_data.loc[ind]['Link1'] = 1\n",
    "    if(result[2] == '1'):\n",
    "        ind = int(result[1])\n",
    "        NO_data.loc[ind]['Link15'] = 1\n",
    "\n",
    "f.close()   "
   ]
  },
  {
   "cell_type": "code",
   "execution_count": 21,
   "metadata": {},
   "outputs": [
    {
     "data": {
      "text/html": [
       "<div>\n",
       "<style scoped>\n",
       "    .dataframe tbody tr th:only-of-type {\n",
       "        vertical-align: middle;\n",
       "    }\n",
       "\n",
       "    .dataframe tbody tr th {\n",
       "        vertical-align: top;\n",
       "    }\n",
       "\n",
       "    .dataframe thead th {\n",
       "        text-align: right;\n",
       "    }\n",
       "</style>\n",
       "<table border=\"1\" class=\"dataframe\">\n",
       "  <thead>\n",
       "    <tr style=\"text-align: right;\">\n",
       "      <th></th>\n",
       "      <th>Link1</th>\n",
       "      <th>Link15</th>\n",
       "    </tr>\n",
       "    <tr>\n",
       "      <th>NO</th>\n",
       "      <th></th>\n",
       "      <th></th>\n",
       "    </tr>\n",
       "  </thead>\n",
       "  <tbody>\n",
       "    <tr>\n",
       "      <th>728</th>\n",
       "      <td>1</td>\n",
       "      <td>0</td>\n",
       "    </tr>\n",
       "    <tr>\n",
       "      <th>734</th>\n",
       "      <td>1</td>\n",
       "      <td>0</td>\n",
       "    </tr>\n",
       "    <tr>\n",
       "      <th>742</th>\n",
       "      <td>1</td>\n",
       "      <td>0</td>\n",
       "    </tr>\n",
       "    <tr>\n",
       "      <th>746</th>\n",
       "      <td>1</td>\n",
       "      <td>0</td>\n",
       "    </tr>\n",
       "    <tr>\n",
       "      <th>756</th>\n",
       "      <td>1</td>\n",
       "      <td>0</td>\n",
       "    </tr>\n",
       "  </tbody>\n",
       "</table>\n",
       "</div>"
      ],
      "text/plain": [
       "     Link1  Link15\n",
       "NO                \n",
       "728      1       0\n",
       "734      1       0\n",
       "742      1       0\n",
       "746      1       0\n",
       "756      1       0"
      ]
     },
     "execution_count": 21,
     "metadata": {},
     "output_type": "execute_result"
    }
   ],
   "source": [
    "NO_data.head()"
   ]
  },
  {
   "cell_type": "code",
   "execution_count": 22,
   "metadata": {},
   "outputs": [
    {
     "data": {
      "text/html": [
       "<div>\n",
       "<style scoped>\n",
       "    .dataframe tbody tr th:only-of-type {\n",
       "        vertical-align: middle;\n",
       "    }\n",
       "\n",
       "    .dataframe tbody tr th {\n",
       "        vertical-align: top;\n",
       "    }\n",
       "\n",
       "    .dataframe thead th {\n",
       "        text-align: right;\n",
       "    }\n",
       "</style>\n",
       "<table border=\"1\" class=\"dataframe\">\n",
       "  <thead>\n",
       "    <tr style=\"text-align: right;\">\n",
       "      <th></th>\n",
       "      <th>Link1</th>\n",
       "      <th>Link15</th>\n",
       "    </tr>\n",
       "    <tr>\n",
       "      <th>NO</th>\n",
       "      <th></th>\n",
       "      <th></th>\n",
       "    </tr>\n",
       "  </thead>\n",
       "  <tbody>\n",
       "    <tr>\n",
       "      <th>5055</th>\n",
       "      <td>0</td>\n",
       "      <td>1</td>\n",
       "    </tr>\n",
       "    <tr>\n",
       "      <th>5056</th>\n",
       "      <td>0</td>\n",
       "      <td>1</td>\n",
       "    </tr>\n",
       "    <tr>\n",
       "      <th>5057</th>\n",
       "      <td>0</td>\n",
       "      <td>1</td>\n",
       "    </tr>\n",
       "    <tr>\n",
       "      <th>5058</th>\n",
       "      <td>0</td>\n",
       "      <td>1</td>\n",
       "    </tr>\n",
       "    <tr>\n",
       "      <th>5059</th>\n",
       "      <td>0</td>\n",
       "      <td>1</td>\n",
       "    </tr>\n",
       "  </tbody>\n",
       "</table>\n",
       "</div>"
      ],
      "text/plain": [
       "      Link1  Link15\n",
       "NO                 \n",
       "5055      0       1\n",
       "5056      0       1\n",
       "5057      0       1\n",
       "5058      0       1\n",
       "5059      0       1"
      ]
     },
     "execution_count": 22,
     "metadata": {},
     "output_type": "execute_result"
    }
   ],
   "source": [
    "NO_data.tail()"
   ]
  },
  {
   "cell_type": "code",
   "execution_count": 23,
   "metadata": {},
   "outputs": [],
   "source": [
    "# 링크1과 링크 15가 둘 다 1인 NO를 veh_list에 저장\n",
    "veh_list = []\n",
    "veh_list = [i for i in NO_data.index if NO_data.loc[i]['Link1']==1 and NO_data.loc[i]['Link15'] == 1]"
   ]
  },
  {
   "cell_type": "code",
   "execution_count": 24,
   "metadata": {},
   "outputs": [],
   "source": [
    "#veh_list를 데이터프레임 형식으로 변환 후 veh_list.xlsx로 저장\n",
    "veh_list_df = DataFrame(veh_list)\n",
    "veh_list_df.to_excel('veh_list.xlsx', sheet_name = 'veh_list') "
   ]
  },
  {
   "cell_type": "code",
   "execution_count": 25,
   "metadata": {},
   "outputs": [
    {
     "data": {
      "text/plain": [
       "(3578, 1)"
      ]
     },
     "execution_count": 25,
     "metadata": {},
     "output_type": "execute_result"
    }
   ],
   "source": [
    "veh_list_df.shape"
   ]
  },
  {
   "cell_type": "code",
   "execution_count": 26,
   "metadata": {},
   "outputs": [
    {
     "data": {
      "text/html": [
       "<div>\n",
       "<style scoped>\n",
       "    .dataframe tbody tr th:only-of-type {\n",
       "        vertical-align: middle;\n",
       "    }\n",
       "\n",
       "    .dataframe tbody tr th {\n",
       "        vertical-align: top;\n",
       "    }\n",
       "\n",
       "    .dataframe thead th {\n",
       "        text-align: right;\n",
       "    }\n",
       "</style>\n",
       "<table border=\"1\" class=\"dataframe\">\n",
       "  <thead>\n",
       "    <tr style=\"text-align: right;\">\n",
       "      <th></th>\n",
       "      <th>NO</th>\n",
       "    </tr>\n",
       "  </thead>\n",
       "  <tbody>\n",
       "    <tr>\n",
       "      <th>0</th>\n",
       "      <td>728</td>\n",
       "    </tr>\n",
       "    <tr>\n",
       "      <th>1</th>\n",
       "      <td>734</td>\n",
       "    </tr>\n",
       "    <tr>\n",
       "      <th>2</th>\n",
       "      <td>742</td>\n",
       "    </tr>\n",
       "    <tr>\n",
       "      <th>3</th>\n",
       "      <td>746</td>\n",
       "    </tr>\n",
       "    <tr>\n",
       "      <th>4</th>\n",
       "      <td>756</td>\n",
       "    </tr>\n",
       "  </tbody>\n",
       "</table>\n",
       "</div>"
      ],
      "text/plain": [
       "    NO\n",
       "0  728\n",
       "1  734\n",
       "2  742\n",
       "3  746\n",
       "4  756"
      ]
     },
     "execution_count": 26,
     "metadata": {},
     "output_type": "execute_result"
    }
   ],
   "source": [
    "#NO_data를 NO_data2로 다시 불러오기 (같은 데이터임) // 중복 삭제 없는 모든 데이터\n",
    "NO_data2 = pd.read_csv('1and15_NO.txt', names=['NO'])\n",
    "NO_data2.head()"
   ]
  },
  {
   "cell_type": "code",
   "execution_count": 27,
   "metadata": {},
   "outputs": [
    {
     "data": {
      "text/plain": [
       "(198114, 1)"
      ]
     },
     "execution_count": 27,
     "metadata": {},
     "output_type": "execute_result"
    }
   ],
   "source": [
    "NO_data2.shape"
   ]
  },
  {
   "cell_type": "code",
   "execution_count": 28,
   "metadata": {},
   "outputs": [],
   "source": [
    "NO_data2 = NO_data2.drop_duplicates('NO')"
   ]
  },
  {
   "cell_type": "code",
   "execution_count": 29,
   "metadata": {},
   "outputs": [],
   "source": [
    "NO_data2 = DataFrame(NO_data2)\n",
    "NO_data2 = NO_data2.set_index('NO')"
   ]
  },
  {
   "cell_type": "code",
   "execution_count": 30,
   "metadata": {},
   "outputs": [
    {
     "data": {
      "text/html": [
       "<div>\n",
       "<style scoped>\n",
       "    .dataframe tbody tr th:only-of-type {\n",
       "        vertical-align: middle;\n",
       "    }\n",
       "\n",
       "    .dataframe tbody tr th {\n",
       "        vertical-align: top;\n",
       "    }\n",
       "\n",
       "    .dataframe thead th {\n",
       "        text-align: right;\n",
       "    }\n",
       "</style>\n",
       "<table border=\"1\" class=\"dataframe\">\n",
       "  <thead>\n",
       "    <tr style=\"text-align: right;\">\n",
       "      <th></th>\n",
       "    </tr>\n",
       "    <tr>\n",
       "      <th>NO</th>\n",
       "    </tr>\n",
       "  </thead>\n",
       "  <tbody>\n",
       "    <tr>\n",
       "      <th>728</th>\n",
       "    </tr>\n",
       "    <tr>\n",
       "      <th>734</th>\n",
       "    </tr>\n",
       "    <tr>\n",
       "      <th>742</th>\n",
       "    </tr>\n",
       "    <tr>\n",
       "      <th>746</th>\n",
       "    </tr>\n",
       "    <tr>\n",
       "      <th>756</th>\n",
       "    </tr>\n",
       "  </tbody>\n",
       "</table>\n",
       "</div>"
      ],
      "text/plain": [
       "Empty DataFrame\n",
       "Columns: []\n",
       "Index: [728, 734, 742, 746, 756]"
      ]
     },
     "execution_count": 30,
     "metadata": {},
     "output_type": "execute_result"
    }
   ],
   "source": [
    "NO_data2.head()"
   ]
  },
  {
   "cell_type": "code",
   "execution_count": 31,
   "metadata": {},
   "outputs": [
    {
     "data": {
      "text/html": [
       "<div>\n",
       "<style scoped>\n",
       "    .dataframe tbody tr th:only-of-type {\n",
       "        vertical-align: middle;\n",
       "    }\n",
       "\n",
       "    .dataframe tbody tr th {\n",
       "        vertical-align: top;\n",
       "    }\n",
       "\n",
       "    .dataframe thead th {\n",
       "        text-align: right;\n",
       "    }\n",
       "</style>\n",
       "<table border=\"1\" class=\"dataframe\">\n",
       "  <thead>\n",
       "    <tr style=\"text-align: right;\">\n",
       "      <th></th>\n",
       "    </tr>\n",
       "    <tr>\n",
       "      <th>NO</th>\n",
       "    </tr>\n",
       "  </thead>\n",
       "  <tbody>\n",
       "    <tr>\n",
       "      <th>5055</th>\n",
       "    </tr>\n",
       "    <tr>\n",
       "      <th>5056</th>\n",
       "    </tr>\n",
       "    <tr>\n",
       "      <th>5057</th>\n",
       "    </tr>\n",
       "    <tr>\n",
       "      <th>5058</th>\n",
       "    </tr>\n",
       "    <tr>\n",
       "      <th>5059</th>\n",
       "    </tr>\n",
       "  </tbody>\n",
       "</table>\n",
       "</div>"
      ],
      "text/plain": [
       "Empty DataFrame\n",
       "Columns: []\n",
       "Index: [5055, 5056, 5057, 5058, 5059]"
      ]
     },
     "execution_count": 31,
     "metadata": {},
     "output_type": "execute_result"
    }
   ],
   "source": [
    "NO_data2.tail()"
   ]
  },
  {
   "cell_type": "code",
   "execution_count": 32,
   "metadata": {},
   "outputs": [
    {
     "data": {
      "text/plain": [
       "(4294, 0)"
      ]
     },
     "execution_count": 32,
     "metadata": {},
     "output_type": "execute_result"
    }
   ],
   "source": [
    "NO_data2.shape"
   ]
  },
  {
   "cell_type": "code",
   "execution_count": 33,
   "metadata": {},
   "outputs": [],
   "source": [
    "#link1의 142m지점과 링크15의 399m지점 지나기 전과 후 pos와 sec저장 위해 NO_data를 인덱스로하여 열 생성\n",
    "#A가 after B는 Before\n",
    "NO_data2['LINK1_sec_B'] = None\n",
    "NO_data2['LINK1_pos_B'] = None\n",
    "NO_data2['LINK1_sec_A'] = None\n",
    "NO_data2['LINK1_pos_A'] = None\n",
    "\n",
    "NO_data2['LINK15_sec_B'] = None\n",
    "NO_data2['LINK15_pos_B'] = None\n",
    "NO_data2['LINK15_sec_A'] = None\n",
    "NO_data2['LINK15_pos_A'] = None"
   ]
  },
  {
   "cell_type": "code",
   "execution_count": 34,
   "metadata": {
    "scrolled": true
   },
   "outputs": [
    {
     "data": {
      "text/html": [
       "<div>\n",
       "<style scoped>\n",
       "    .dataframe tbody tr th:only-of-type {\n",
       "        vertical-align: middle;\n",
       "    }\n",
       "\n",
       "    .dataframe tbody tr th {\n",
       "        vertical-align: top;\n",
       "    }\n",
       "\n",
       "    .dataframe thead th {\n",
       "        text-align: right;\n",
       "    }\n",
       "</style>\n",
       "<table border=\"1\" class=\"dataframe\">\n",
       "  <thead>\n",
       "    <tr style=\"text-align: right;\">\n",
       "      <th></th>\n",
       "      <th>LINK1_sec_B</th>\n",
       "      <th>LINK1_pos_B</th>\n",
       "      <th>LINK1_sec_A</th>\n",
       "      <th>LINK1_pos_A</th>\n",
       "      <th>LINK15_sec_B</th>\n",
       "      <th>LINK15_pos_B</th>\n",
       "      <th>LINK15_sec_A</th>\n",
       "      <th>LINK15_pos_A</th>\n",
       "    </tr>\n",
       "    <tr>\n",
       "      <th>NO</th>\n",
       "      <th></th>\n",
       "      <th></th>\n",
       "      <th></th>\n",
       "      <th></th>\n",
       "      <th></th>\n",
       "      <th></th>\n",
       "      <th></th>\n",
       "      <th></th>\n",
       "    </tr>\n",
       "  </thead>\n",
       "  <tbody>\n",
       "    <tr>\n",
       "      <th>728</th>\n",
       "      <td>None</td>\n",
       "      <td>None</td>\n",
       "      <td>None</td>\n",
       "      <td>None</td>\n",
       "      <td>None</td>\n",
       "      <td>None</td>\n",
       "      <td>None</td>\n",
       "      <td>None</td>\n",
       "    </tr>\n",
       "    <tr>\n",
       "      <th>734</th>\n",
       "      <td>None</td>\n",
       "      <td>None</td>\n",
       "      <td>None</td>\n",
       "      <td>None</td>\n",
       "      <td>None</td>\n",
       "      <td>None</td>\n",
       "      <td>None</td>\n",
       "      <td>None</td>\n",
       "    </tr>\n",
       "    <tr>\n",
       "      <th>742</th>\n",
       "      <td>None</td>\n",
       "      <td>None</td>\n",
       "      <td>None</td>\n",
       "      <td>None</td>\n",
       "      <td>None</td>\n",
       "      <td>None</td>\n",
       "      <td>None</td>\n",
       "      <td>None</td>\n",
       "    </tr>\n",
       "    <tr>\n",
       "      <th>746</th>\n",
       "      <td>None</td>\n",
       "      <td>None</td>\n",
       "      <td>None</td>\n",
       "      <td>None</td>\n",
       "      <td>None</td>\n",
       "      <td>None</td>\n",
       "      <td>None</td>\n",
       "      <td>None</td>\n",
       "    </tr>\n",
       "    <tr>\n",
       "      <th>756</th>\n",
       "      <td>None</td>\n",
       "      <td>None</td>\n",
       "      <td>None</td>\n",
       "      <td>None</td>\n",
       "      <td>None</td>\n",
       "      <td>None</td>\n",
       "      <td>None</td>\n",
       "      <td>None</td>\n",
       "    </tr>\n",
       "  </tbody>\n",
       "</table>\n",
       "</div>"
      ],
      "text/plain": [
       "    LINK1_sec_B LINK1_pos_B LINK1_sec_A LINK1_pos_A LINK15_sec_B LINK15_pos_B  \\\n",
       "NO                                                                              \n",
       "728        None        None        None        None         None         None   \n",
       "734        None        None        None        None         None         None   \n",
       "742        None        None        None        None         None         None   \n",
       "746        None        None        None        None         None         None   \n",
       "756        None        None        None        None         None         None   \n",
       "\n",
       "    LINK15_sec_A LINK15_pos_A  \n",
       "NO                             \n",
       "728         None         None  \n",
       "734         None         None  \n",
       "742         None         None  \n",
       "746         None         None  \n",
       "756         None         None  "
      ]
     },
     "execution_count": 34,
     "metadata": {},
     "output_type": "execute_result"
    }
   ],
   "source": [
    "NO_data2.head()"
   ]
  },
  {
   "cell_type": "code",
   "execution_count": 35,
   "metadata": {},
   "outputs": [],
   "source": [
    "#링크 1\n",
    "#142m를 지나고 A에 데이터가 저장되어 있지 않다면 그 때의 sec와 pos를 저장\n",
    "#142m전 데이터는 for문으로 반복하면서 B에 계속 저장"
   ]
  },
  {
   "cell_type": "code",
   "execution_count": 36,
   "metadata": {},
   "outputs": [],
   "source": [
    "\n",
    "df = open(\"1and15.txt\",'r')\n",
    "\n",
    "lines = df.readlines()\n",
    "\n",
    "for line in lines:\n",
    "    if not line : break\n",
    "    result = line.split(\";\")\n",
    "    if(result[2] == '1'):\n",
    "        no = float(result[1])\n",
    "        sec = float(result[0])\n",
    "        pos = float(result[4])\n",
    "        if(float(result[4]) > 142):\n",
    "            if((pd.isnull(NO_data2.loc[no,\"LINK1_sec_A\"])==True) and (pd.isnull(NO_data2.loc[no,\"LINK1_pos_A\"]) == True)):                \n",
    "                NO_data2.loc[no,\"LINK1_sec_A\"] = sec\n",
    "                NO_data2.loc[no,\"LINK1_pos_A\"] = pos\n",
    "        \n",
    "        elif(float(result[4]) <= 142):            \n",
    "            NO_data2.loc[no,\"LINK1_sec_B\"] = sec\n",
    "            NO_data2.loc[no,\"LINK1_pos_B\"] = pos\n",
    "            \n",
    "\n",
    "df.close()            \n",
    "        \n",
    "    "
   ]
  },
  {
   "cell_type": "code",
   "execution_count": 37,
   "metadata": {},
   "outputs": [],
   "source": [
    "#링크 1의 방법과 같음"
   ]
  },
  {
   "cell_type": "code",
   "execution_count": 38,
   "metadata": {},
   "outputs": [],
   "source": [
    "df = open(\"1and15.txt\",'r')\n",
    "\n",
    "lines = df.readlines()\n",
    "\n",
    "for line in lines:\n",
    "    if not line : break\n",
    "    result = line.split(\";\")\n",
    "    if(result[2] == '15'):\n",
    "        no = float(result[1])\n",
    "        sec = float(result[0])\n",
    "        pos = float(result[4])\n",
    "        if(float(result[4]) > 399):\n",
    "            if(pd.isnull(NO_data2.loc[no,\"LINK15_sec_A\"])==True and pd.isnull(NO_data2.loc[no,\"LINK15_pos_A\"]) == True):                \n",
    "                NO_data2.loc[no,\"LINK15_sec_A\"] = sec\n",
    "                NO_data2.loc[no,\"LINK15_pos_A\"] = pos\n",
    "        \n",
    "        elif(float(result[4]) <= 399):            \n",
    "            NO_data2.loc[no,\"LINK15_sec_B\"] = sec\n",
    "            NO_data2.loc[no,\"LINK15_pos_B\"] = pos\n",
    "            \n",
    "\n",
    "df.close()            "
   ]
  },
  {
   "cell_type": "code",
   "execution_count": 40,
   "metadata": {},
   "outputs": [],
   "source": [
    "NO_data2.to_excel('NO_data2.xlsx')"
   ]
  },
  {
   "cell_type": "code",
   "execution_count": 41,
   "metadata": {},
   "outputs": [],
   "source": [
    "#위 과정을 거쳐서 데이터가 저장되지 않았다면, 링크1과 링크15를 모두 지난 차량이라고 할 수 없으므로 제거\n",
    "#ps.NO_data는 단순히 링크1과 링크15가 있는 데이터의 차량을 저장한 것\n",
    "NO_data3 = NO_data2.dropna(axis=0)"
   ]
  },
  {
   "cell_type": "code",
   "execution_count": 42,
   "metadata": {},
   "outputs": [
    {
     "data": {
      "text/plain": [
       "(3518, 8)"
      ]
     },
     "execution_count": 42,
     "metadata": {},
     "output_type": "execute_result"
    }
   ],
   "source": [
    "NO_data3.shape"
   ]
  },
  {
   "cell_type": "code",
   "execution_count": 43,
   "metadata": {},
   "outputs": [
    {
     "data": {
      "text/html": [
       "<div>\n",
       "<style scoped>\n",
       "    .dataframe tbody tr th:only-of-type {\n",
       "        vertical-align: middle;\n",
       "    }\n",
       "\n",
       "    .dataframe tbody tr th {\n",
       "        vertical-align: top;\n",
       "    }\n",
       "\n",
       "    .dataframe thead th {\n",
       "        text-align: right;\n",
       "    }\n",
       "</style>\n",
       "<table border=\"1\" class=\"dataframe\">\n",
       "  <thead>\n",
       "    <tr style=\"text-align: right;\">\n",
       "      <th></th>\n",
       "      <th>LINK1_sec_B</th>\n",
       "      <th>LINK1_pos_B</th>\n",
       "      <th>LINK1_sec_A</th>\n",
       "      <th>LINK1_pos_A</th>\n",
       "      <th>LINK15_sec_B</th>\n",
       "      <th>LINK15_pos_B</th>\n",
       "      <th>LINK15_sec_A</th>\n",
       "      <th>LINK15_pos_A</th>\n",
       "    </tr>\n",
       "    <tr>\n",
       "      <th>NO</th>\n",
       "      <th></th>\n",
       "      <th></th>\n",
       "      <th></th>\n",
       "      <th></th>\n",
       "      <th></th>\n",
       "      <th></th>\n",
       "      <th></th>\n",
       "      <th></th>\n",
       "    </tr>\n",
       "  </thead>\n",
       "  <tbody>\n",
       "    <tr>\n",
       "      <th>1141</th>\n",
       "      <td>902</td>\n",
       "      <td>125.34</td>\n",
       "      <td>903</td>\n",
       "      <td>150.13</td>\n",
       "      <td>1228</td>\n",
       "      <td>387.32</td>\n",
       "      <td>1229</td>\n",
       "      <td>412.11</td>\n",
       "    </tr>\n",
       "    <tr>\n",
       "      <th>1142</th>\n",
       "      <td>902</td>\n",
       "      <td>117.86</td>\n",
       "      <td>903</td>\n",
       "      <td>146.88</td>\n",
       "      <td>1193</td>\n",
       "      <td>372.58</td>\n",
       "      <td>1194</td>\n",
       "      <td>400.23</td>\n",
       "    </tr>\n",
       "    <tr>\n",
       "      <th>1143</th>\n",
       "      <td>902</td>\n",
       "      <td>114.74</td>\n",
       "      <td>903</td>\n",
       "      <td>145.15</td>\n",
       "      <td>1183</td>\n",
       "      <td>388.9</td>\n",
       "      <td>1184</td>\n",
       "      <td>419.31</td>\n",
       "    </tr>\n",
       "    <tr>\n",
       "      <th>1144</th>\n",
       "      <td>903</td>\n",
       "      <td>139.68</td>\n",
       "      <td>904</td>\n",
       "      <td>169.16</td>\n",
       "      <td>1194</td>\n",
       "      <td>383.27</td>\n",
       "      <td>1195</td>\n",
       "      <td>412.75</td>\n",
       "    </tr>\n",
       "    <tr>\n",
       "      <th>1145</th>\n",
       "      <td>905</td>\n",
       "      <td>137.92</td>\n",
       "      <td>906</td>\n",
       "      <td>162.81</td>\n",
       "      <td>1232</td>\n",
       "      <td>383.13</td>\n",
       "      <td>1233</td>\n",
       "      <td>408.02</td>\n",
       "    </tr>\n",
       "  </tbody>\n",
       "</table>\n",
       "</div>"
      ],
      "text/plain": [
       "     LINK1_sec_B LINK1_pos_B LINK1_sec_A LINK1_pos_A LINK15_sec_B  \\\n",
       "NO                                                                  \n",
       "1141         902      125.34         903      150.13         1228   \n",
       "1142         902      117.86         903      146.88         1193   \n",
       "1143         902      114.74         903      145.15         1183   \n",
       "1144         903      139.68         904      169.16         1194   \n",
       "1145         905      137.92         906      162.81         1232   \n",
       "\n",
       "     LINK15_pos_B LINK15_sec_A LINK15_pos_A  \n",
       "NO                                           \n",
       "1141       387.32         1229       412.11  \n",
       "1142       372.58         1194       400.23  \n",
       "1143        388.9         1184       419.31  \n",
       "1144       383.27         1195       412.75  \n",
       "1145       383.13         1233       408.02  "
      ]
     },
     "execution_count": 43,
     "metadata": {},
     "output_type": "execute_result"
    }
   ],
   "source": [
    "NO_data3.head()"
   ]
  },
  {
   "cell_type": "code",
   "execution_count": 44,
   "metadata": {},
   "outputs": [],
   "source": [
    "#이를 1and15_BA.xlsx로 저장\n",
    "NO_data3.to_excel('1and15_BA.xlsx', sheet_name = 'data')"
   ]
  },
  {
   "cell_type": "code",
   "execution_count": 45,
   "metadata": {},
   "outputs": [],
   "source": [
    "#다시 불러옴\n",
    "NO_data4 = pd.read_excel('1and15_BA.xlsx')"
   ]
  },
  {
   "cell_type": "code",
   "execution_count": 46,
   "metadata": {},
   "outputs": [],
   "source": [
    "#링크1을 지났을 때의 시간과 링크15를 지났을 때의 시간을 저장하기 위해 열 생성"
   ]
  },
  {
   "cell_type": "code",
   "execution_count": 47,
   "metadata": {},
   "outputs": [],
   "source": [
    "NO_data4['t1'] = 0\n",
    "NO_data4['t15'] = 0"
   ]
  },
  {
   "cell_type": "code",
   "execution_count": 48,
   "metadata": {},
   "outputs": [],
   "source": [
    "#보간법으로 용인ic 지점과 양지 ic지점 지났을 때 시간 계산하여 저장\n",
    "for i in NO_data4.index:\n",
    "    NO_data4.loc[i, \"t1\"] = NO_data4.loc[i,\"LINK1_sec_B\"] + 142 / (NO_data4.loc[i, \"LINK1_pos_A\"] - NO_data4.loc[i, \"LINK1_pos_B\"])\n",
    "    NO_data4.loc[i, \"t15\"] = NO_data4.loc[i,\"LINK15_sec_B\"] + 399 / (NO_data4.loc[i, \"LINK15_pos_A\"] - NO_data4.loc[i, \"LINK15_pos_B\"])"
   ]
  },
  {
   "cell_type": "code",
   "execution_count": 49,
   "metadata": {},
   "outputs": [],
   "source": [
    "NO_data4.to_excel('1and15_BA.xlsx', sheet_name = 'data')"
   ]
  },
  {
   "cell_type": "code",
   "execution_count": 50,
   "metadata": {},
   "outputs": [],
   "source": [
    "#Travel Time 저장위해 TT열 생성, t15 - t1값을 TT에 저장"
   ]
  },
  {
   "cell_type": "code",
   "execution_count": 51,
   "metadata": {},
   "outputs": [],
   "source": [
    "NO_data4['TT'] = 0\n",
    "\n",
    "for i in NO_data4.index:\n",
    "    NO_data4.loc[i, \"TT\"] = NO_data4.loc[i,\"t15\"] - NO_data4.loc[i,\"t1\"]"
   ]
  },
  {
   "cell_type": "code",
   "execution_count": 52,
   "metadata": {},
   "outputs": [],
   "source": [
    "NO_data4.to_excel('1and15_BA.xlsx', sheet_name = 'data')"
   ]
  },
  {
   "cell_type": "code",
   "execution_count": 53,
   "metadata": {},
   "outputs": [],
   "source": [
    "NO_data5 = pd.read_excel('1and15_BA.xlsx')"
   ]
  },
  {
   "cell_type": "code",
   "execution_count": 54,
   "metadata": {},
   "outputs": [],
   "source": [
    "#TT를 제외한 열은 사용하지 않으므로 TT열만 추출"
   ]
  },
  {
   "cell_type": "code",
   "execution_count": 55,
   "metadata": {},
   "outputs": [],
   "source": [
    "TT = NO_data5[\"TT\"]"
   ]
  },
  {
   "cell_type": "code",
   "execution_count": 56,
   "metadata": {},
   "outputs": [
    {
     "data": {
      "text/plain": [
       "0    336.367084\n",
       "1    300.537203\n",
       "2    289.451167\n",
       "3    299.717775\n",
       "4    337.325432\n",
       "Name: TT, dtype: float64"
      ]
     },
     "execution_count": 56,
     "metadata": {},
     "output_type": "execute_result"
    }
   ],
   "source": [
    "TT.head()"
   ]
  },
  {
   "cell_type": "code",
   "execution_count": 57,
   "metadata": {},
   "outputs": [],
   "source": [
    "size = len(TT)"
   ]
  },
  {
   "cell_type": "code",
   "execution_count": 80,
   "metadata": {},
   "outputs": [],
   "source": [
    "length = 8130.697"
   ]
  },
  {
   "cell_type": "code",
   "execution_count": 58,
   "metadata": {},
   "outputs": [],
   "source": [
    "TT2 = DataFrame(TT)"
   ]
  },
  {
   "cell_type": "code",
   "execution_count": 59,
   "metadata": {},
   "outputs": [
    {
     "data": {
      "text/html": [
       "<div>\n",
       "<style scoped>\n",
       "    .dataframe tbody tr th:only-of-type {\n",
       "        vertical-align: middle;\n",
       "    }\n",
       "\n",
       "    .dataframe tbody tr th {\n",
       "        vertical-align: top;\n",
       "    }\n",
       "\n",
       "    .dataframe thead th {\n",
       "        text-align: right;\n",
       "    }\n",
       "</style>\n",
       "<table border=\"1\" class=\"dataframe\">\n",
       "  <thead>\n",
       "    <tr style=\"text-align: right;\">\n",
       "      <th></th>\n",
       "      <th>TT</th>\n",
       "    </tr>\n",
       "  </thead>\n",
       "  <tbody>\n",
       "    <tr>\n",
       "      <th>0</th>\n",
       "      <td>336.367084</td>\n",
       "    </tr>\n",
       "    <tr>\n",
       "      <th>1</th>\n",
       "      <td>300.537203</td>\n",
       "    </tr>\n",
       "    <tr>\n",
       "      <th>2</th>\n",
       "      <td>289.451167</td>\n",
       "    </tr>\n",
       "    <tr>\n",
       "      <th>3</th>\n",
       "      <td>299.717775</td>\n",
       "    </tr>\n",
       "    <tr>\n",
       "      <th>4</th>\n",
       "      <td>337.325432</td>\n",
       "    </tr>\n",
       "  </tbody>\n",
       "</table>\n",
       "</div>"
      ],
      "text/plain": [
       "           TT\n",
       "0  336.367084\n",
       "1  300.537203\n",
       "2  289.451167\n",
       "3  299.717775\n",
       "4  337.325432"
      ]
     },
     "execution_count": 59,
     "metadata": {},
     "output_type": "execute_result"
    }
   ],
   "source": [
    "TT2.head()"
   ]
  },
  {
   "cell_type": "code",
   "execution_count": 60,
   "metadata": {},
   "outputs": [],
   "source": [
    "TT2['TMS'] = (8130.679*3600)/(TT2['TT']*1000)"
   ]
  },
  {
   "cell_type": "code",
   "execution_count": 61,
   "metadata": {},
   "outputs": [
    {
     "data": {
      "text/html": [
       "<div>\n",
       "<style scoped>\n",
       "    .dataframe tbody tr th:only-of-type {\n",
       "        vertical-align: middle;\n",
       "    }\n",
       "\n",
       "    .dataframe tbody tr th {\n",
       "        vertical-align: top;\n",
       "    }\n",
       "\n",
       "    .dataframe thead th {\n",
       "        text-align: right;\n",
       "    }\n",
       "</style>\n",
       "<table border=\"1\" class=\"dataframe\">\n",
       "  <thead>\n",
       "    <tr style=\"text-align: right;\">\n",
       "      <th></th>\n",
       "      <th>TT</th>\n",
       "      <th>TMS</th>\n",
       "    </tr>\n",
       "  </thead>\n",
       "  <tbody>\n",
       "    <tr>\n",
       "      <th>0</th>\n",
       "      <td>336.367084</td>\n",
       "      <td>87.019348</td>\n",
       "    </tr>\n",
       "    <tr>\n",
       "      <th>1</th>\n",
       "      <td>300.537203</td>\n",
       "      <td>97.393747</td>\n",
       "    </tr>\n",
       "    <tr>\n",
       "      <th>2</th>\n",
       "      <td>289.451167</td>\n",
       "      <td>101.123947</td>\n",
       "    </tr>\n",
       "    <tr>\n",
       "      <th>3</th>\n",
       "      <td>299.717775</td>\n",
       "      <td>97.660022</td>\n",
       "    </tr>\n",
       "    <tr>\n",
       "      <th>4</th>\n",
       "      <td>337.325432</td>\n",
       "      <td>86.772125</td>\n",
       "    </tr>\n",
       "  </tbody>\n",
       "</table>\n",
       "</div>"
      ],
      "text/plain": [
       "           TT         TMS\n",
       "0  336.367084   87.019348\n",
       "1  300.537203   97.393747\n",
       "2  289.451167  101.123947\n",
       "3  299.717775   97.660022\n",
       "4  337.325432   86.772125"
      ]
     },
     "execution_count": 61,
     "metadata": {},
     "output_type": "execute_result"
    }
   ],
   "source": [
    "TT2.head()"
   ]
  },
  {
   "cell_type": "code",
   "execution_count": null,
   "metadata": {},
   "outputs": [],
   "source": [
    "#표준오차"
   ]
  },
  {
   "cell_type": "code",
   "execution_count": 72,
   "metadata": {},
   "outputs": [],
   "source": [
    "iter = 0\n",
    "f = open('1_rand_SE.txt', 'w')\n",
    "\n",
    "while(iter!=10):\n",
    "    arr = np.random.uniform(low=0.0, high = 1.0, size=size)\n",
    "    arr = arr.tolist()\n",
    "    df = pd.DataFrame(arr)\n",
    "    df.columns = ['RAND']\n",
    "    rand = pd.merge(TT2, df, how = 'outer', left_index = True, right_index = True)\n",
    "    rand1 = []\n",
    "    rand1 = [rand.loc[i,\"TT\"] for i in rand.index if rand.loc[i,\"RAND\"] <= 0.01]\n",
    "    s = np.std(rand1) \n",
    "    n = len(rand1)\n",
    "    SE = s/math.sqrt(n)\n",
    "    f.write(str(SE))\n",
    "    f.write('\\n')\n",
    "    iter = iter + 1\n",
    "    \n",
    "f.close()\n",
    "    \n",
    "    "
   ]
  },
  {
   "cell_type": "code",
   "execution_count": 74,
   "metadata": {},
   "outputs": [
    {
     "data": {
      "text/plain": [
       "32"
      ]
     },
     "execution_count": 74,
     "metadata": {},
     "output_type": "execute_result"
    }
   ],
   "source": [
    "n"
   ]
  },
  {
   "cell_type": "code",
   "execution_count": 75,
   "metadata": {},
   "outputs": [
    {
     "data": {
      "text/html": [
       "<div>\n",
       "<style scoped>\n",
       "    .dataframe tbody tr th:only-of-type {\n",
       "        vertical-align: middle;\n",
       "    }\n",
       "\n",
       "    .dataframe tbody tr th {\n",
       "        vertical-align: top;\n",
       "    }\n",
       "\n",
       "    .dataframe thead th {\n",
       "        text-align: right;\n",
       "    }\n",
       "</style>\n",
       "<table border=\"1\" class=\"dataframe\">\n",
       "  <thead>\n",
       "    <tr style=\"text-align: right;\">\n",
       "      <th></th>\n",
       "      <th>TT</th>\n",
       "      <th>TMS</th>\n",
       "      <th>RAND</th>\n",
       "    </tr>\n",
       "  </thead>\n",
       "  <tbody>\n",
       "    <tr>\n",
       "      <th>0</th>\n",
       "      <td>336.367084</td>\n",
       "      <td>87.019348</td>\n",
       "      <td>0.996098</td>\n",
       "    </tr>\n",
       "    <tr>\n",
       "      <th>1</th>\n",
       "      <td>300.537203</td>\n",
       "      <td>97.393747</td>\n",
       "      <td>0.740326</td>\n",
       "    </tr>\n",
       "    <tr>\n",
       "      <th>2</th>\n",
       "      <td>289.451167</td>\n",
       "      <td>101.123947</td>\n",
       "      <td>0.158453</td>\n",
       "    </tr>\n",
       "    <tr>\n",
       "      <th>3</th>\n",
       "      <td>299.717775</td>\n",
       "      <td>97.660022</td>\n",
       "      <td>0.903810</td>\n",
       "    </tr>\n",
       "    <tr>\n",
       "      <th>4</th>\n",
       "      <td>337.325432</td>\n",
       "      <td>86.772125</td>\n",
       "      <td>0.581730</td>\n",
       "    </tr>\n",
       "  </tbody>\n",
       "</table>\n",
       "</div>"
      ],
      "text/plain": [
       "           TT         TMS      RAND\n",
       "0  336.367084   87.019348  0.996098\n",
       "1  300.537203   97.393747  0.740326\n",
       "2  289.451167  101.123947  0.158453\n",
       "3  299.717775   97.660022  0.903810\n",
       "4  337.325432   86.772125  0.581730"
      ]
     },
     "execution_count": 75,
     "metadata": {},
     "output_type": "execute_result"
    }
   ],
   "source": [
    "rand.head()"
   ]
  },
  {
   "cell_type": "code",
   "execution_count": 79,
   "metadata": {},
   "outputs": [
    {
     "data": {
      "text/plain": [
       "[308.8531787398997,\n",
       " 285.4200548336628,\n",
       " 302.9985994397759,\n",
       " 296.2990713239005,\n",
       " 348.8210526315788,\n",
       " 342.3248074195612,\n",
       " 362.130359462971,\n",
       " 368.5298340062809,\n",
       " 307.625468164794,\n",
       " 298.2700353551149,\n",
       " 305.5031005235992,\n",
       " 333.4769669792092,\n",
       " 292.9560992730933,\n",
       " 348.7027083054527,\n",
       " 298.2497689505824,\n",
       " 307.2884217740493,\n",
       " 341.224571083867,\n",
       " 288.6473599183869,\n",
       " 295.9731973341368,\n",
       " 330.3903546377273,\n",
       " 287.5586005505538,\n",
       " 292.8997289972899,\n",
       " 315.7512747475357,\n",
       " 283.8067539456429,\n",
       " 297.640459340023,\n",
       " 341.6720070646406,\n",
       " 366.0754482627071,\n",
       " 282.8887140691568,\n",
       " 315.1240290030933,\n",
       " 300.0602930823898,\n",
       " 281.7037369148766,\n",
       " 316.1194994285906]"
      ]
     },
     "execution_count": 79,
     "metadata": {},
     "output_type": "execute_result"
    }
   ],
   "source": [
    "rand1"
   ]
  },
  {
   "cell_type": "code",
   "execution_count": 78,
   "metadata": {},
   "outputs": [
    {
     "data": {
      "text/plain": [
       "1088608.4409344252"
      ]
     },
     "execution_count": 78,
     "metadata": {},
     "output_type": "execute_result"
    }
   ],
   "source": [
    "sum100 = rand['TT'].sum(axis=0)\n",
    "sum100"
   ]
  },
  {
   "cell_type": "code",
   "execution_count": 83,
   "metadata": {},
   "outputs": [
    {
     "data": {
      "text/plain": [
       "94.59200158067014"
      ]
     },
     "execution_count": 83,
     "metadata": {},
     "output_type": "execute_result"
    }
   ],
   "source": [
    "sms100 = (length*size*3.6)/sum100\n",
    "sms100"
   ]
  },
  {
   "cell_type": "code",
   "execution_count": 82,
   "metadata": {},
   "outputs": [
    {
     "data": {
      "text/plain": [
       "Ttest_1sampResult(statistic=47.37965887382028, pvalue=1.7218170321084378e-30)"
      ]
     },
     "execution_count": 82,
     "metadata": {},
     "output_type": "execute_result"
    }
   ],
   "source": [
    "#http://thenotes.tistory.com/entry/Ttest-in-python\n",
    "tTest1 = stats.ttest_1samp(rand1,sms100)\n",
    "tTest1"
   ]
  },
  {
   "cell_type": "code",
   "execution_count": 84,
   "metadata": {},
   "outputs": [
    {
     "data": {
      "text/plain": [
       "Ttest_1sampResult(statistic=73.35897616999152, pvalue=2.0802661681410658e-69)"
      ]
     },
     "execution_count": 84,
     "metadata": {},
     "output_type": "execute_result"
    }
   ],
   "source": [
    "rand2 = []\n",
    "rand2 = [rand.loc[i,\"TT\"] for i in rand.index if rand.loc[i,\"RAND\"] <= 0.02]\n",
    "\n",
    "tTest2 = stats.ttest_1samp(rand2, sms100)\n",
    "tTest2"
   ]
  },
  {
   "cell_type": "code",
   "execution_count": 85,
   "metadata": {},
   "outputs": [
    {
     "data": {
      "text/plain": [
       "Ttest_1sampResult(statistic=82.51930741203581, pvalue=6.573228237707417e-96)"
      ]
     },
     "execution_count": 85,
     "metadata": {},
     "output_type": "execute_result"
    }
   ],
   "source": [
    "rand3 = []\n",
    "rand3 = [rand.loc[i,\"TT\"] for i in rand.index if rand.loc[i,\"RAND\"] <= 0.03]\n",
    "\n",
    "tTest3 = stats.ttest_1samp(rand3, sms100)\n",
    "tTest3"
   ]
  },
  {
   "cell_type": "code",
   "execution_count": 87,
   "metadata": {},
   "outputs": [
    {
     "data": {
      "text/plain": [
       "Ttest_1sampResult(statistic=96.79679555156383, pvalue=1.2291297403345672e-133)"
      ]
     },
     "execution_count": 87,
     "metadata": {},
     "output_type": "execute_result"
    }
   ],
   "source": [
    "rand4 = []\n",
    "rand4 = [rand.loc[i,\"TT\"] for i in rand.index if rand.loc[i,\"RAND\"] <= 0.04]\n",
    "\n",
    "tTest4 = stats.ttest_1samp(rand4, sms100)\n",
    "tTest4"
   ]
  },
  {
   "cell_type": "code",
   "execution_count": 88,
   "metadata": {},
   "outputs": [
    {
     "data": {
      "text/plain": [
       "Ttest_1sampResult(statistic=110.31387867890658, pvalue=2.472589083953744e-169)"
      ]
     },
     "execution_count": 88,
     "metadata": {},
     "output_type": "execute_result"
    }
   ],
   "source": [
    "rand5 = []\n",
    "rand5 = [rand.loc[i,\"TT\"] for i in rand.index if rand.loc[i,\"RAND\"] <= 0.05]\n",
    "\n",
    "tTest5 = stats.ttest_1samp(rand5, sms100)\n",
    "tTest5"
   ]
  },
  {
   "cell_type": "code",
   "execution_count": null,
   "metadata": {},
   "outputs": [],
   "source": [
    "arr = np.random.uniform(low=0.0, high = 1.0, size = size)"
   ]
  },
  {
   "cell_type": "code",
   "execution_count": null,
   "metadata": {},
   "outputs": [],
   "source": [
    "arr = arr.tolist()"
   ]
  },
  {
   "cell_type": "code",
   "execution_count": null,
   "metadata": {},
   "outputs": [],
   "source": [
    "df = pd.DataFrame(arr)"
   ]
  },
  {
   "cell_type": "code",
   "execution_count": null,
   "metadata": {},
   "outputs": [],
   "source": [
    "df.head()"
   ]
  },
  {
   "cell_type": "code",
   "execution_count": null,
   "metadata": {},
   "outputs": [],
   "source": [
    "df.columns = ['RAND']"
   ]
  },
  {
   "cell_type": "code",
   "execution_count": null,
   "metadata": {},
   "outputs": [],
   "source": [
    "df.head()"
   ]
  },
  {
   "cell_type": "code",
   "execution_count": null,
   "metadata": {},
   "outputs": [],
   "source": [
    "TT2.head()"
   ]
  },
  {
   "cell_type": "code",
   "execution_count": null,
   "metadata": {},
   "outputs": [],
   "source": [
    "#TT와 arr을 dataframe으로 변경하여 merge"
   ]
  },
  {
   "cell_type": "code",
   "execution_count": null,
   "metadata": {},
   "outputs": [],
   "source": [
    "rand = pd.merge(TT2, df, how = 'outer', left_index = True, right_index = True)"
   ]
  },
  {
   "cell_type": "code",
   "execution_count": null,
   "metadata": {},
   "outputs": [],
   "source": [
    "rand.to_excel('Rand.xlsx')"
   ]
  },
  {
   "cell_type": "code",
   "execution_count": null,
   "metadata": {},
   "outputs": [],
   "source": [
    "np.savetxt('Rand.txt', rand, fmt='%d',delimiter = ';', header = \"TT\\Rand\")"
   ]
  },
  {
   "cell_type": "code",
   "execution_count": null,
   "metadata": {},
   "outputs": [],
   "source": [
    "rand = pd.read_excel('Rand.xlsx')"
   ]
  },
  {
   "cell_type": "code",
   "execution_count": null,
   "metadata": {},
   "outputs": [],
   "source": [
    "rand.head()"
   ]
  },
  {
   "cell_type": "code",
   "execution_count": null,
   "metadata": {},
   "outputs": [],
   "source": [
    "rand['TT'].sum()"
   ]
  },
  {
   "cell_type": "code",
   "execution_count": null,
   "metadata": {},
   "outputs": [],
   "source": [
    "#용인IC와 양지IC의 거리 8130.679m, 차량대수 4345대\n",
    "#비율에 따라 계산"
   ]
  },
  {
   "cell_type": "code",
   "execution_count": null,
   "metadata": {},
   "outputs": [],
   "source": [
    "#100%\n",
    "sms100 = (8130.679* 4345*3.6)/rand['TT'].sum()\n",
    "sms100"
   ]
  },
  {
   "cell_type": "code",
   "execution_count": null,
   "metadata": {},
   "outputs": [],
   "source": [
    "#1%\n",
    "n = 0;\n",
    "sum = 0;\n",
    "for i in rand.index:\n",
    "    if rand.loc[i,\"RAND\"]<=0.01:\n",
    "        sum += rand.loc[i,\"TT\"]\n",
    "        n = n+1\n",
    "        \n",
    "sms1 = (8130.679*n*3.6)/sum\n",
    "sms1     \n",
    "    "
   ]
  },
  {
   "cell_type": "code",
   "execution_count": null,
   "metadata": {},
   "outputs": [],
   "source": [
    "#2%\n",
    "n = 0;\n",
    "sum = 0;\n",
    "for i in rand.index:\n",
    "    if rand.loc[i,\"RAND\"]<=0.02:\n",
    "        sum += rand.loc[i,\"TT\"]\n",
    "        n = n+1\n",
    "        \n",
    "sms2 = (8130.679*n*3.6)/sum\n",
    "sms2     \n",
    "    "
   ]
  },
  {
   "cell_type": "code",
   "execution_count": null,
   "metadata": {},
   "outputs": [],
   "source": [
    "n = 0;\n",
    "sum = 0;\n",
    "for i in rand.index:\n",
    "    if rand.loc[i,\"RAND\"]<=0.03:\n",
    "        sum += rand.loc[i,\"TT\"]\n",
    "        n = n+1\n",
    "        \n",
    "sms3 = (8130.679*n*3.6)/sum\n",
    "sms3 "
   ]
  },
  {
   "cell_type": "code",
   "execution_count": null,
   "metadata": {},
   "outputs": [],
   "source": [
    "\n",
    "n = 0;\n",
    "sum = 0;\n",
    "for i in rand.index:\n",
    "    if rand.loc[i,\"RAND\"]<=0.04:\n",
    "        sum += rand.loc[i,\"TT\"]\n",
    "        n = n+1\n",
    "        \n",
    "sms4 = (8130.679*n*3.6)/sum\n",
    "sms4     \n",
    "    "
   ]
  },
  {
   "cell_type": "code",
   "execution_count": null,
   "metadata": {},
   "outputs": [],
   "source": [
    "\n",
    "n = 0;\n",
    "sum = 0;\n",
    "for i in rand.index:\n",
    "    if rand.loc[i,\"RAND\"]<=0.05:\n",
    "        sum += rand.loc[i,\"TT\"]\n",
    "        n = n+1\n",
    "        \n",
    "sms5 = (8130.679*n*3.6)/sum\n",
    "sms5     \n",
    "    "
   ]
  },
  {
   "cell_type": "code",
   "execution_count": null,
   "metadata": {},
   "outputs": [],
   "source": [
    "\n",
    "n = 0;\n",
    "sum = 0;\n",
    "for i in rand.index:\n",
    "    if rand.loc[i,\"RAND\"]<=0.1:\n",
    "        sum += rand.loc[i,\"TT\"]\n",
    "        n = n+1\n",
    "        \n",
    "sms10 = (8130.679*n*3.6)/sum\n",
    "sms10     \n",
    "    "
   ]
  },
  {
   "cell_type": "code",
   "execution_count": null,
   "metadata": {},
   "outputs": [],
   "source": [
    "\n",
    "n = 0;\n",
    "sum = 0;\n",
    "for i in rand.index:\n",
    "    if rand.loc[i,\"RAND\"]<=0.2:\n",
    "        sum += rand.loc[i,\"TT\"]\n",
    "        n = n+1\n",
    "        \n",
    "sms20 = (8130.679*n*3.6)/sum\n",
    "sms20     \n",
    "    "
   ]
  },
  {
   "cell_type": "code",
   "execution_count": null,
   "metadata": {},
   "outputs": [],
   "source": [
    "\n",
    "n = 0;\n",
    "sum = 0;\n",
    "for i in rand.index:\n",
    "    if rand.loc[i,\"RAND\"]<=0.25:\n",
    "        sum += rand.loc[i,\"TT\"]\n",
    "        n = n+1\n",
    "        \n",
    "sms25 = (8130.679*n*3.6)/sum\n",
    "sms25     \n",
    "    "
   ]
  },
  {
   "cell_type": "code",
   "execution_count": null,
   "metadata": {},
   "outputs": [],
   "source": [
    "n = 0;\n",
    "sum = 0;\n",
    "for i in rand.index:\n",
    "    if rand.loc[i,\"RAND\"]<=0.3:\n",
    "        sum += rand.loc[i,\"TT\"]\n",
    "        n = n+1\n",
    "        \n",
    "sms30 = (8130.679*n*3.6)/sum\n",
    "sms30"
   ]
  },
  {
   "cell_type": "code",
   "execution_count": null,
   "metadata": {},
   "outputs": [],
   "source": [
    "#50%\n",
    "n = 0;\n",
    "sum = 0;\n",
    "for i in rand.index:\n",
    "    if rand.loc[i,\"RAND\"]<=0.5:\n",
    "        sum += rand.loc[i,\"TT\"]\n",
    "        n = n+1\n",
    "        \n",
    "sms50 = (8130.679*n*3.6)/sum\n",
    "sms50"
   ]
  },
  {
   "cell_type": "code",
   "execution_count": null,
   "metadata": {},
   "outputs": [],
   "source": [
    "#70%\n",
    "n = 0;\n",
    "sum = 0;\n",
    "for i in rand.index:\n",
    "    if rand.loc[i,\"RAND\"]<=0.7:\n",
    "        sum += rand.loc[i,\"TT\"]\n",
    "        n = n+1\n",
    "        \n",
    "sms70 = (8130.679*n*3.6)/sum\n",
    "sms70     \n",
    "    "
   ]
  },
  {
   "cell_type": "code",
   "execution_count": null,
   "metadata": {},
   "outputs": [],
   "source": [
    "#90%\n",
    "n = 0;\n",
    "sum = 0;\n",
    "for i in rand.index:\n",
    "    if rand.loc[i,\"RAND\"]<=0.9:\n",
    "        sum += rand.loc[i,\"TT\"]\n",
    "        n = n+1\n",
    "        \n",
    "sms90 = (8130.679*n*3.6)/sum\n",
    "sms90     \n",
    "    "
   ]
  }
 ],
 "metadata": {
  "kernelspec": {
   "display_name": "Python 3",
   "language": "python",
   "name": "python3"
  },
  "language_info": {
   "codemirror_mode": {
    "name": "ipython",
    "version": 3
   },
   "file_extension": ".py",
   "mimetype": "text/x-python",
   "name": "python",
   "nbconvert_exporter": "python",
   "pygments_lexer": "ipython3",
   "version": "3.6.4"
  }
 },
 "nbformat": 4,
 "nbformat_minor": 2
}
